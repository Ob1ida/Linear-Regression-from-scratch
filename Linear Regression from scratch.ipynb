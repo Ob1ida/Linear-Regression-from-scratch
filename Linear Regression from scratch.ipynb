{
 "cells": [
  {
   "cell_type": "markdown",
   "id": "5e3d9a8d",
   "metadata": {},
   "source": [
    "# import our dependencies"
   ]
  },
  {
   "cell_type": "code",
   "execution_count": 4,
   "id": "4c4630e8",
   "metadata": {},
   "outputs": [],
   "source": [
    "import numpy as np\n",
    "import pandas as pd\n",
    "import matplotlib.pyplot as plt"
   ]
  },
  {
   "cell_type": "markdown",
   "id": "37dd231b",
   "metadata": {},
   "source": [
    "# import our dataset"
   ]
  },
  {
   "cell_type": "code",
   "execution_count": 5,
   "id": "211d708b",
   "metadata": {},
   "outputs": [
    {
     "data": {
      "text/html": [
       "<div>\n",
       "<style scoped>\n",
       "    .dataframe tbody tr th:only-of-type {\n",
       "        vertical-align: middle;\n",
       "    }\n",
       "\n",
       "    .dataframe tbody tr th {\n",
       "        vertical-align: top;\n",
       "    }\n",
       "\n",
       "    .dataframe thead th {\n",
       "        text-align: right;\n",
       "    }\n",
       "</style>\n",
       "<table border=\"1\" class=\"dataframe\">\n",
       "  <thead>\n",
       "    <tr style=\"text-align: right;\">\n",
       "      <th></th>\n",
       "      <th>TV</th>\n",
       "      <th>radio</th>\n",
       "      <th>newspaper</th>\n",
       "      <th>sales</th>\n",
       "    </tr>\n",
       "  </thead>\n",
       "  <tbody>\n",
       "    <tr>\n",
       "      <th>0</th>\n",
       "      <td>230.1</td>\n",
       "      <td>37.8</td>\n",
       "      <td>69.2</td>\n",
       "      <td>22.1</td>\n",
       "    </tr>\n",
       "    <tr>\n",
       "      <th>1</th>\n",
       "      <td>44.5</td>\n",
       "      <td>39.3</td>\n",
       "      <td>45.1</td>\n",
       "      <td>10.4</td>\n",
       "    </tr>\n",
       "    <tr>\n",
       "      <th>2</th>\n",
       "      <td>17.2</td>\n",
       "      <td>45.9</td>\n",
       "      <td>69.3</td>\n",
       "      <td>9.3</td>\n",
       "    </tr>\n",
       "    <tr>\n",
       "      <th>3</th>\n",
       "      <td>151.5</td>\n",
       "      <td>41.3</td>\n",
       "      <td>58.5</td>\n",
       "      <td>18.5</td>\n",
       "    </tr>\n",
       "    <tr>\n",
       "      <th>4</th>\n",
       "      <td>180.8</td>\n",
       "      <td>10.8</td>\n",
       "      <td>58.4</td>\n",
       "      <td>12.9</td>\n",
       "    </tr>\n",
       "  </tbody>\n",
       "</table>\n",
       "</div>"
      ],
      "text/plain": [
       "      TV  radio  newspaper  sales\n",
       "0  230.1   37.8       69.2   22.1\n",
       "1   44.5   39.3       45.1   10.4\n",
       "2   17.2   45.9       69.3    9.3\n",
       "3  151.5   41.3       58.5   18.5\n",
       "4  180.8   10.8       58.4   12.9"
      ]
     },
     "execution_count": 5,
     "metadata": {},
     "output_type": "execute_result"
    }
   ],
   "source": [
    "df = pd.read_csv('Advertising.csv')\n",
    "df.head()"
   ]
  },
  {
   "cell_type": "markdown",
   "id": "330e6fcd",
   "metadata": {},
   "source": [
    "> <b> let's find the relationship between the Tv and sales\n",
    "    \n",
    "![](Formula.png)\n",
    "\n",
    "<b> using this formula we can find the best fit for our model\n",
    "    where x¯ is the mean of the input variable X and y¯ being the mean of the output vaiable Y."
   ]
  },
  {
   "cell_type": "code",
   "execution_count": null,
   "id": "2f025cb6",
   "metadata": {},
   "outputs": [],
   "source": [
    "# initialuzung out inputs and outputs\n",
    "X = df['TV'].values\n",
    "Y = df['sales'].values\n",
    "\n",
    "# mean of X and Y \n",
    "x_mean  = np.mean(X)\n",
    "y_mean = np.mean(Y)\n",
    "\n",
    "# total numbers of valurs (n)\n",
    "n = len(X)\n",
    "#using the formula to calculate the b1 and b0\n",
    "for i in range(n):\n",
    "    numerator = (X[i]-x_mean)*(Y[i]-y_mean)\n",
    "    denominator = (X[i]-x_mean)**2\n",
    "    \n",
    "# after that out betas will be ->\n",
    "b1 = numerator -"
   ]
  }
 ],
 "metadata": {
  "kernelspec": {
   "display_name": "Python 3 (ipykernel)",
   "language": "python",
   "name": "python3"
  },
  "language_info": {
   "codemirror_mode": {
    "name": "ipython",
    "version": 3
   },
   "file_extension": ".py",
   "mimetype": "text/x-python",
   "name": "python",
   "nbconvert_exporter": "python",
   "pygments_lexer": "ipython3",
   "version": "3.11.5"
  }
 },
 "nbformat": 4,
 "nbformat_minor": 5
}
